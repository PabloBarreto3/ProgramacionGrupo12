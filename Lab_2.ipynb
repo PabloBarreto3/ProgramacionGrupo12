{
  "cells": [
    {
      "cell_type": "markdown",
      "source": [
        "1. Define a procedure histogram () that takes a list of whole numbers and prints a histogram on the screen. Example: procedure ([4, 9, 7]) should print the following:"
      ],
      "metadata": {
        "id": "xJ6xgtnDzobm"
      }
    },
    {
      "cell_type": "code",
      "execution_count": null,
      "metadata": {
        "colab": {
          "base_uri": "https://localhost:8080/"
        },
        "id": "o0uhvcGKI-4P",
        "outputId": "97146062-fb44-4722-9548-500ee30d8cab"
      },
      "outputs": [
        {
          "output_type": "stream",
          "name": "stdout",
          "text": [
            "Digite la cantidad de datos que desea imprimir: 4\n",
            "digite valor el valor para a: 1\n",
            "digite valor el valor para a: 2\n",
            "digite valor el valor para a: 3\n",
            "digite valor el valor para a: 4\n",
            "[1, 2, 3, 4]\n",
            "*\n",
            "**\n",
            "***\n",
            "****\n"
          ]
        }
      ],
      "source": [
        "#1 sin def\n",
        "lista=[]\n",
        "tamaño=int(input('Digite la cantidad de datos que desea imprimir: '))\n",
        "for i in range (tamaño):\n",
        "  lista.append(int(input('digite valor el valor para a: ')))\n",
        "print(lista)\n",
        "for j in range(len(lista)):\n",
        " print(lista[j]*'*')"
      ]
    },
    {
      "cell_type": "code",
      "execution_count": null,
      "metadata": {
        "id": "7T9JiKbCeDev",
        "colab": {
          "base_uri": "https://localhost:8080/"
        },
        "outputId": "74bb26b9-d6b2-444f-a256-604754968043"
      },
      "outputs": [
        {
          "output_type": "stream",
          "name": "stdout",
          "text": [
            "Digite la cantidad de datos que desea imprimir: 5\n",
            "digite valor el valor para a: 4\n",
            "digite valor el valor para a: 5\n",
            "digite valor el valor para a: 8\n",
            "digite valor el valor para a: 6\n",
            "digite valor el valor para a: 10\n",
            "****\n",
            "*****\n",
            "********\n",
            "******\n",
            "**********\n"
          ]
        }
      ],
      "source": [
        "#1 con def\n",
        "lista=[]\n",
        "tamaño=int(input('Digite la cantidad de datos que desea imprimir: '))\n",
        "def histogram(entrada):\n",
        "  for j in range(len(entrada)):\n",
        "    print(entrada[j]*'*')\n",
        "for i in range (tamaño):\n",
        "  lista.append(int(input('digite valor el valor para a: ')))\n",
        "\n",
        "histogram(lista)\n"
      ]
    },
    {
      "cell_type": "markdown",
      "source": [
        "2. Write a longer_long () function that takes a list of words and returns the longest."
      ],
      "metadata": {
        "id": "Z3schvg5zuGi"
      }
    },
    {
      "cell_type": "code",
      "execution_count": null,
      "metadata": {
        "id": "2wuJvJfiLbfz"
      },
      "outputs": [],
      "source": [
        "#2\n",
        "#Ingreso de variables\n",
        "d=[]\n",
        "#Mensaje\n",
        "cantidad=int(input('Escriba la cantidad de palabras que tendra su lista: '))#Contador de cuantos datos desea ingresar\n",
        "for z in range (cantidad):#Bucle para que se ingrese la cantidad de palabras mencionadas antes\n",
        "  d.append(str(input('Ingrese las palabras para la lista: ')))\n",
        "print('La lista queda:',d)\n",
        "def longer_long(a):\n",
        "    max_len = len(d[0])#Contador de caracteres de cada palabra de la lista\n",
        "    larga = d[0]\n",
        "    #Bucle para ir atravez de las palabras de la lista\n",
        "    for i in d:\n",
        "        if(len(i) > max_len):\n",
        "            larga = i\n",
        "    print('')\n",
        "    print('La palabra más larga es:', larga)\n",
        "longer_long(d)"
      ]
    },
    {
      "cell_type": "markdown",
      "source": [
        "3. Write a program that tells the user to enter a string. The program has to evaluate the string and say how many capital letters it has."
      ],
      "metadata": {
        "id": "rXzjKIG0z1rt"
      }
    },
    {
      "cell_type": "code",
      "execution_count": null,
      "metadata": {
        "id": "RJvLqobH5sF-"
      },
      "outputs": [],
      "source": [
        "#3\n",
        "capital=['A','B','C','D','E','F','G','H','I','J','K','L','M','N','O','P','Q','R','S','T','U','V','W','X','Y','Z']\n",
        "palabra=[]\n",
        "palabra=input('Ingrese la palabra: ')\n",
        "f=0\n",
        "for i in range(0,len(capital)): \n",
        "  con=capital[i]\n",
        "  for r in range (0,len(palabra)):\n",
        "    i+=1\n",
        "    cont=palabra[r]\n",
        "    r+=1\n",
        "    if con==cont:\n",
        "      f+=1\n",
        "print('La cantidad de mayusculas es: ',f)"
      ]
    },
    {
      "cell_type": "markdown",
      "source": [
        "4.Build a small program that converts binary numbers to integers"
      ],
      "metadata": {
        "id": "AwlFSJog0BMY"
      }
    },
    {
      "cell_type": "code",
      "execution_count": null,
      "metadata": {
        "id": "QllEYm57ScJc"
      },
      "outputs": [],
      "source": [
        "#4\n",
        "def aDecimal(numeroBin):\n",
        "  num=numeroBin\n",
        "  decimal=0\n",
        "  base=1\n",
        "  cont=num\n",
        "  b=10\n",
        "  while (cont):#Bucle para analizar digito por digito\n",
        "    a= (cont % b)\n",
        "    cont=int(cont/b)\n",
        "    decimal+= (a*base)\n",
        "    base*=2\n",
        "  return decimal\n",
        "num=int(input('Ingrese el numero binario que desea convertir: '))\n",
        "dec=(aDecimal(num))\n",
        "print('El numero decimal:',num, 'convertido a decimal es igual a: ',dec)"
      ]
    },
    {
      "cell_type": "markdown",
      "source": [
        "5.Create a function count_vols (), which receives a word and counts how many letters \"a\" it has, how many letters \"e\" it has, and so on until all the vowels are completed."
      ],
      "metadata": {
        "id": "AfUwpR390HA7"
      }
    },
    {
      "cell_type": "code",
      "source": [
        "#5\n",
        "palabra=[]\n",
        "A=0\n",
        "E=0\n",
        "I=0\n",
        "O=0\n",
        "U=0\n",
        "palabra=input('Ingrese la palabra que desea analizar: ')\n",
        "for i in range(0,len(palabra)):\n",
        "  cont=(palabra[i])\n",
        "  i=+1\n",
        "  print(cont)    \n",
        "  if cont=='a':\n",
        "    A=+1\n",
        "  else:\n",
        "    if cont== 'e':\n",
        "      E+=1\n",
        "    else:\n",
        "      if cont== 'i':\n",
        "        I+=1\n",
        "      else:\n",
        "        if cont=='o':\n",
        "          O+=1\n",
        "        else:\n",
        "          if cont=='u':\n",
        "            U+=1\n",
        "print('a=',A,'e=',E,'i=',I,'o=',O,'u=',U)"
      ],
      "metadata": {
        "id": "ZslQEG2ToS0N"
      },
      "execution_count": null,
      "outputs": []
    },
    {
      "cell_type": "markdown",
      "source": [
        "6.Write a function is leap () that determines if a given year is a leap year"
      ],
      "metadata": {
        "id": "hABhO5FY0Nc7"
      }
    },
    {
      "cell_type": "code",
      "execution_count": null,
      "metadata": {
        "id": "-LeXbQdIYfKD"
      },
      "outputs": [],
      "source": [
        "#6\n",
        "def es_bisiesto(año):\n",
        "  if (año%4)==0:\n",
        "    return True\n",
        "  else:\n",
        "    return False\n",
        "año=int(input('Escriba el año que desea saber: '))\n",
        "if (es_bisiesto(año)):\n",
        "  print('Es bisiesto')\n",
        "else: \n",
        "  print('No es bisiesto')"
      ]
    },
    {
      "cell_type": "markdown",
      "source": [
        "7. Write a program that asks for two words and tells whether or not they rhyme. If the last three letters match, you have to say that they rhyme. If only the last two coincide, he has to say that they rhyme a bit and if not, that they do not rhyme."
      ],
      "metadata": {
        "id": "1IVrpIpv0RPa"
      }
    },
    {
      "cell_type": "code",
      "execution_count": null,
      "metadata": {
        "id": "RvT6Dl3BdHpo"
      },
      "outputs": [],
      "source": [
        "#7\n",
        "uno=str(input('Ingresa la primera palabra: '))\n",
        "dos=str(input('Ingrese la segunda palabra: '))\n",
        "cont1=len(uno)-3\n",
        "cont2=len(dos)-3\n",
        "d=uno[cont1:]\n",
        "e=dos[cont2:]\n",
        "t=len(uno)-2\n",
        "r=len(dos)-2\n",
        "F=uno[t:]\n",
        "W=dos[r:]\n",
        "if d==e:\n",
        "  print('Tienen rima')\n",
        "else :\n",
        "  if F==W:\n",
        "    print('Riman un poco')\n",
        "  else:\n",
        "    print('No riman')"
      ]
    },
    {
      "cell_type": "markdown",
      "source": [
        "8.It has a program that asks the user for a dollar amount, an interest rate, and a number of years. It shows on the screen how much the initial capital will have been converted after those years if the interest rate entered is applied each year."
      ],
      "metadata": {
        "id": "z27tQJDs0VMC"
      }
    },
    {
      "cell_type": "code",
      "execution_count": null,
      "metadata": {
        "id": "h1-Q2yCgbgCv"
      },
      "outputs": [],
      "source": [
        "#8\n",
        "dinero=float(input('Ingrese la cantidad de dolares iniciales: '))\n",
        "inte=float(input('Ingrese el interes al que va a manejar el dinero: '))\n",
        "cant_ano=float(input('Ingrese la cantidad de años: '))\n",
        "div=(inte/100)+1\n",
        "mul=(div**cant_ano)\n",
        "calculo=int(dinero*mul)\n",
        "print(calculo)"
      ]
    },
    {
      "cell_type": "markdown",
      "source": [
        "9. Create an algorithm that ask for one number the (0 to 100), the program have to create a multiplication table from 0 to the selected number."
      ],
      "metadata": {
        "id": "vDLcaBlu0ZqE"
      }
    },
    {
      "cell_type": "code",
      "execution_count": null,
      "metadata": {
        "id": "sXHZEVPvltCh"
      },
      "outputs": [],
      "source": [
        "#9\n",
        "a=int(input('Escriba un numero que este entre 0 y 100 '))\n",
        "p=0\n",
        "for i in range(0,a+1):\n",
        "  p=i*a\n",
        "  print(i,'*',a,'=',p)"
      ]
    }
  ],
  "metadata": {
    "colab": {
      "collapsed_sections": [],
      "provenance": []
    },
    "kernelspec": {
      "display_name": "Python 3",
      "name": "python3"
    },
    "language_info": {
      "name": "python"
    }
  },
  "nbformat": 4,
  "nbformat_minor": 0
}