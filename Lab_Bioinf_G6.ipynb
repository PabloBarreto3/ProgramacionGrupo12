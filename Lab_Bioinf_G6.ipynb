{
  "nbformat": 4,
  "nbformat_minor": 0,
  "metadata": {
    "colab": {
      "provenance": [],
      "collapsed_sections": []
    },
    "kernelspec": {
      "name": "python3",
      "display_name": "Python 3"
    },
    "language_info": {
      "name": "python"
    }
  },
  "cells": [
    {
      "cell_type": "code",
      "source": [
        "from google.colab import drive\n",
        "drive.mount('/content/drive')"
      ],
      "metadata": {
        "id": "vjPNMeeDOPSU"
      },
      "execution_count": null,
      "outputs": []
    },
    {
      "cell_type": "markdown",
      "source": [
        "Secueencia del Genoma Viral de referencia Sars-Cov 2 https://www.ncbi.nlm.nih.gov/nuccore/1798174254\n"
      ],
      "metadata": {
        "id": "xsQ6TJ3vH7Uj"
      }
    },
    {
      "cell_type": "code",
      "execution_count": null,
      "metadata": {
        "id": "jo-AxkQyES82"
      },
      "outputs": [],
      "source": [
        "with open('/content/drive/MyDrive/Copia de sequence_Covid-19.fasta') as f:\n",
        "  lines=f.readlines()\n",
        "print(lines)"
      ]
    },
    {
      "cell_type": "code",
      "source": [
        "secuence=''\n",
        "for l in lines[1:]:#slice, para comenzar desde el segundo elemento\n",
        "  secuence+=l[:-1]\n",
        "print(secuence)"
      ],
      "metadata": {
        "id": "Ah4PACo4QCUE"
      },
      "execution_count": null,
      "outputs": []
    },
    {
      "cell_type": "code",
      "source": [
        "Problema='TAATAGCTTCTTAGGAGAATGACAAAA'\n",
        "\n",
        "cantidad=secuence.find(Problema)\n",
        "print(cantidad)\n"
      ],
      "metadata": {
        "colab": {
          "base_uri": "https://localhost:8080/"
        },
        "id": "UZk1HOCrQEMw",
        "outputId": "f868fb87-d1c0-4c5e-abab-3c495f0c7e8e"
      },
      "execution_count": null,
      "outputs": [
        {
          "output_type": "stream",
          "name": "stdout",
          "text": [
            "-1\n"
          ]
        }
      ]
    }
  ]
}