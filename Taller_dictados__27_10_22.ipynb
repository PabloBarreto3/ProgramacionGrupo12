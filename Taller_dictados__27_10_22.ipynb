{
  "nbformat": 4,
  "nbformat_minor": 0,
  "metadata": {
    "colab": {
      "provenance": [],
      "collapsed_sections": []
    },
    "kernelspec": {
      "name": "python3",
      "display_name": "Python 3"
    },
    "language_info": {
      "name": "python"
    }
  },
  "cells": [
    {
      "cell_type": "code",
      "execution_count": null,
      "metadata": {
        "colab": {
          "base_uri": "https://localhost:8080/"
        },
        "id": "VZI00XeRkBIz",
        "outputId": "2a3cd347-99f5-493b-b32a-58138011af60"
      },
      "outputs": [
        {
          "output_type": "stream",
          "name": "stdout",
          "text": [
            "Ingrese su nombre: as\n",
            "Igrese su edad: 23\n",
            "Ingrese su direccion: cll 24#34 45\n",
            "Ingrese su teléfono433225440995\n",
            "{'as': ('Su edad es', '23', 'Si dirección es', 'cll 24#34 45', 'Su teléfono', 433225440995)}\n"
          ]
        }
      ],
      "source": [
        "dicta={}\n",
        "a=input('Ingrese su nombre: ')\n",
        "b=input('Igrese su edad: ')\n",
        "c=input('Ingrese su direccion: ')\n",
        "d=int(input('Ingrese su teléfono: '))\n",
        "dicta[a]=('Su edad es',b,', su dirección es',c,'y su teléfono',d)\n",
        "print(dicta)"
      ]
    },
    {
      "cell_type": "code",
      "source": [
        "from datetime import date\n",
        "hoy=date(2022, 10, 25)\n",
        "año=int(input(\"ingrese su año de nacimiento:\"))\n",
        "mes=int(input(\"ingrese su mes de nacimiento: \"))\n",
        "dia = int(input(\"ingrese su día de nacimiento: \"))\n",
        "nacimiento=date(año,mes,dia)\n",
        "\n",
        "#print(nacimiento)\n",
        "\n",
        "dias = hoy - nacimiento\n",
        "print(\"usted ha vivido\",dias.days,\"días\")"
      ],
      "metadata": {
        "id": "wIpRryyVpB73"
      },
      "execution_count": null,
      "outputs": []
    },
    {
      "cell_type": "markdown",
      "source": [
        "3. Escribir un programa que administre un dictado de dictados, {1:{},2:{},,,,,,,#:{}}.\n",
        "Debe preguntar a cada usuario(cantidad indefinida), tres datos (los que definan), y a partir de estos, crear un dictado por usuario.\n",
        "El dictado de cada usuario, será de esta manera:\n",
        "La clave será un entero respectivo al orden en que el usuario ingresa los datos.\n",
        "El valor será un dictado con los tres datos del usuario elegidos.\n",
        "{‘dato1’:857,‘dato2’:True,‘dato3’:’dffd’}\n",
        "Ejemplo dictado general:\n",
        "{0:{‘dato1’:857,‘dato2’:True,‘dato3’:’dffd’},1:{‘dato1’:857,‘dato2’:True,‘dato3’:’dffd’}}\n",
        "Al final el programa imprimirá el primer(mínimo) usuario y el último(máximo) usuario con sus respectivos datos.\n"
      ],
      "metadata": {
        "id": "SxIUqKtF64_Y"
      }
    },
    {
      "cell_type": "code",
      "source": [
        "dic={}\n",
        "dc={}\n",
        "x=True\n",
        "i=0\n",
        "e=1\n",
        "while x == True:\n",
        "  a=input('Ingrese sus años: ')\n",
        "  b=input('Ingrese la cantidad de propiedades a su nombre: ')\n",
        "  c=input('Ingrese la cantidad de hijos: ')\n",
        "  dic[f'c{e}']=('Años',a,'Propiedades',b,'Hijos',c)\n",
        "  dc[i]=(dic)\n",
        "  e+=1\n",
        "  i+=1\n",
        "  f=(input('¿Desea agregar más usuarios? 1=Si 2=No'))\n",
        "  if f=='2':\n",
        "    x=False\n",
        "  else:\n",
        "    x=True\n",
        "mi=min(dic)\n",
        "print('Minimo:',dic[mi])\n",
        "ma=max(dic)\n",
        "print('Maximo:',dic[ma])"
      ],
      "metadata": {
        "id": "YZvAaIujwc40",
        "colab": {
          "base_uri": "https://localhost:8080/"
        },
        "outputId": "18300f82-9281-43e7-f375-96b8592cfcfb"
      },
      "execution_count": 16,
      "outputs": [
        {
          "output_type": "stream",
          "name": "stdout",
          "text": [
            "Ingrese sus años: 17\n",
            "Ingrese la cantidad de propiedades a su nombre: 5\n",
            "Ingrese la cantidad de hijos: 0\n",
            "{'c1': ('Años', '17', 'Propiedades', '5', 'Hijos', '0')}\n",
            "¿Desea agregar más usuarios? 1=Si 2=No1\n",
            "Ingrese sus años: 70\n",
            "Ingrese la cantidad de propiedades a su nombre: 9\n",
            "Ingrese la cantidad de hijos: 2\n",
            "{'c1': ('Años', '17', 'Propiedades', '5', 'Hijos', '0'), 'c2': ('Años', '70', 'Propiedades', '9', 'Hijos', '2')}\n",
            "¿Desea agregar más usuarios? 1=Si 2=No2\n",
            "{0: {'c1': ('Años', '17', 'Propiedades', '2', 'Hijos', '0'), 'c2': ('Años', '19', 'Propiedades', '0', 'Hijos', '0')}, 1: {'c1': ('Años', '17', 'Propiedades', '2', 'Hijos', '0'), 'c2': ('Años', '19', 'Propiedades', '0', 'Hijos', '0')}}\n",
            "Minimo: ('Años', '17', 'Propiedades', '5', 'Hijos', '0')\n",
            "Maximo: ('Años', '70', 'Propiedades', '9', 'Hijos', '2')\n"
          ]
        }
      ]
    }
  ]
}